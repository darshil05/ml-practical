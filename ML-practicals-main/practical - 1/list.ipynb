{
  "nbformat": 4,
  "nbformat_minor": 0,
  "metadata": {
    "kernelspec": {
      "display_name": "Python 3",
      "language": "python",
      "name": "python3"
    },
    "language_info": {
      "codemirror_mode": {
        "name": "ipython",
        "version": 3
      },
      "file_extension": ".py",
      "mimetype": "text/x-python",
      "name": "python",
      "nbconvert_exporter": "python",
      "pygments_lexer": "ipython3",
      "version": "3.8.3"
    },
    "colab": {
      "name": "list.ipynb",
      "provenance": [],
      "collapsed_sections": []
    }
  },
  "cells": [
    {
      "cell_type": "code",
      "metadata": {
        "id": "qOq0TFLXsNgW"
      },
      "source": [
        "list1 = []\n",
        "list2 = [\"D\",\"A\",\"R\",\"S\",\"H\",\"I\",\"L\"]"
      ],
      "execution_count": null,
      "outputs": []
    },
    {
      "cell_type": "code",
      "metadata": {
        "id": "ys9Xrj_ysNge"
      },
      "source": [
        "list1.append([\"My\",\"name\",\"is\",\"DARSHIL\"])"
      ],
      "execution_count": null,
      "outputs": []
    },
    {
      "cell_type": "code",
      "metadata": {
        "colab": {
          "base_uri": "https://localhost:8080/"
        },
        "id": "emZOBZFXsNgi",
        "outputId": "36710b53-da53-47c6-e369-75dc334a8768"
      },
      "source": [
        "list1\n"
      ],
      "execution_count": null,
      "outputs": [
        {
          "output_type": "execute_result",
          "data": {
            "text/plain": [
              "[['My', 'name', 'is', 'DARSHIL'], ['My', 'name', 'is', 'DARSHIL']]"
            ]
          },
          "metadata": {
            "tags": []
          },
          "execution_count": 5
        }
      ]
    },
    {
      "cell_type": "code",
      "metadata": {
        "colab": {
          "base_uri": "https://localhost:8080/"
        },
        "id": "_PiYNE1jsNgn",
        "outputId": "98f23c15-71d1-424b-bf70-2544057046a0"
      },
      "source": [
        "list1[0:2]"
      ],
      "execution_count": 13,
      "outputs": [
        {
          "output_type": "execute_result",
          "data": {
            "text/plain": [
              "[['My', 'name', 'is', 'DARSHIL'], ['My', 'name', 'is', 'DARSHIL']]"
            ]
          },
          "metadata": {
            "tags": []
          },
          "execution_count": 13
        }
      ]
    },
    {
      "cell_type": "code",
      "metadata": {
        "colab": {
          "base_uri": "https://localhost:8080/"
        },
        "id": "kzYT9YM6sNgp",
        "outputId": "8166a55c-a189-4f46-ec7d-eee0135340ad"
      },
      "source": [
        "list1[0][0:2]"
      ],
      "execution_count": 14,
      "outputs": [
        {
          "output_type": "execute_result",
          "data": {
            "text/plain": [
              "['My', 'name']"
            ]
          },
          "metadata": {
            "tags": []
          },
          "execution_count": 14
        }
      ]
    },
    {
      "cell_type": "code",
      "metadata": {
        "colab": {
          "base_uri": "https://localhost:8080/"
        },
        "id": "4ixiSmU3sNgr",
        "outputId": "59bd15ea-1492-40ef-b43c-06b9b7ec5878"
      },
      "source": [
        "list2[1:4]\n"
      ],
      "execution_count": 15,
      "outputs": [
        {
          "output_type": "execute_result",
          "data": {
            "text/plain": [
              "['A', 'R', 'S']"
            ]
          },
          "metadata": {
            "tags": []
          },
          "execution_count": 15
        }
      ]
    },
    {
      "cell_type": "code",
      "metadata": {
        "id": "X_ufjxw8sNgs"
      },
      "source": [
        "a = [10, 20, -50, 21.3, 'ldrp']"
      ],
      "execution_count": 16,
      "outputs": []
    },
    {
      "cell_type": "code",
      "metadata": {
        "colab": {
          "base_uri": "https://localhost:8080/"
        },
        "id": "NU038YUysNgu",
        "outputId": "bbc3615f-6162-4913-86a4-29b18b9ccf20"
      },
      "source": [
        "a\n"
      ],
      "execution_count": 17,
      "outputs": [
        {
          "output_type": "execute_result",
          "data": {
            "text/plain": [
              "[10, 20, -50, 21.3, 'ldrp']"
            ]
          },
          "metadata": {
            "tags": []
          },
          "execution_count": 17
        }
      ]
    },
    {
      "cell_type": "code",
      "metadata": {
        "id": "ECB9LJLXsNgv"
      },
      "source": [
        "a.append(89.33)"
      ],
      "execution_count": 18,
      "outputs": []
    },
    {
      "cell_type": "code",
      "metadata": {
        "colab": {
          "base_uri": "https://localhost:8080/"
        },
        "id": "esyyG5zGsNgx",
        "outputId": "aab4af89-a7a5-4242-dc6b-31501b67d865"
      },
      "source": [
        "a\n"
      ],
      "execution_count": 19,
      "outputs": [
        {
          "output_type": "execute_result",
          "data": {
            "text/plain": [
              "[10, 20, -50, 21.3, 'ldrp', 89.33]"
            ]
          },
          "metadata": {
            "tags": []
          },
          "execution_count": 19
        }
      ]
    },
    {
      "cell_type": "code",
      "metadata": {
        "id": "gYZXWjf4sNgy"
      },
      "source": [
        "list3=list1 + a"
      ],
      "execution_count": 20,
      "outputs": []
    },
    {
      "cell_type": "code",
      "metadata": {
        "id": "OyrHzS3psNgz",
        "colab": {
          "base_uri": "https://localhost:8080/"
        },
        "outputId": "906b7da7-4289-4828-ec20-4fb46d5393ad"
      },
      "source": [
        "list3"
      ],
      "execution_count": 21,
      "outputs": [
        {
          "output_type": "execute_result",
          "data": {
            "text/plain": [
              "[['My', 'name', 'is', 'DARSHIL'],\n",
              " ['My', 'name', 'is', 'DARSHIL'],\n",
              " 10,\n",
              " 20,\n",
              " -50,\n",
              " 21.3,\n",
              " 'ldrp',\n",
              " 89.33]"
            ]
          },
          "metadata": {
            "tags": []
          },
          "execution_count": 21
        }
      ]
    },
    {
      "cell_type": "code",
      "metadata": {
        "id": "faDZKrMesNg0"
      },
      "source": [
        "list1.extend(\"hello\")"
      ],
      "execution_count": 23,
      "outputs": []
    },
    {
      "cell_type": "code",
      "metadata": {
        "id": "k30MGLlDsNg2",
        "colab": {
          "base_uri": "https://localhost:8080/"
        },
        "outputId": "1e8358ec-ae8d-4b8c-b193-efb79a65d8f9"
      },
      "source": [
        "list1"
      ],
      "execution_count": 24,
      "outputs": [
        {
          "output_type": "execute_result",
          "data": {
            "text/plain": [
              "[['My', 'name', 'is', 'DARSHIL'],\n",
              " ['My', 'name', 'is', 'DARSHIL'],\n",
              " 'h',\n",
              " 'e',\n",
              " 'l',\n",
              " 'l',\n",
              " 'o',\n",
              " 'h',\n",
              " 'e',\n",
              " 'l',\n",
              " 'l',\n",
              " 'o']"
            ]
          },
          "metadata": {
            "tags": []
          },
          "execution_count": 24
        }
      ]
    },
    {
      "cell_type": "code",
      "metadata": {
        "id": "yK0cAz0xsNg3",
        "colab": {
          "base_uri": "https://localhost:8080/"
        },
        "outputId": "c266f02d-2557-472d-9cbc-a4980874c40d"
      },
      "source": [
        "del list3[1:4]\n",
        "list3"
      ],
      "execution_count": 25,
      "outputs": [
        {
          "output_type": "execute_result",
          "data": {
            "text/plain": [
              "[['My', 'name', 'is', 'DARSHIL'], -50, 21.3, 'ldrp', 89.33]"
            ]
          },
          "metadata": {
            "tags": []
          },
          "execution_count": 25
        }
      ]
    },
    {
      "cell_type": "code",
      "metadata": {
        "id": "pTP6EgmvsNg5",
        "colab": {
          "base_uri": "https://localhost:8080/"
        },
        "outputId": "eb093fdc-2c06-4fe8-f73f-14ff6fc79bb7"
      },
      "source": [
        "list3[1:1] = [\"ldrp\"]\n",
        "list3"
      ],
      "execution_count": 26,
      "outputs": [
        {
          "output_type": "execute_result",
          "data": {
            "text/plain": [
              "[['My', 'name', 'is', 'DARSHIL'], 'ldrp', -50, 21.3, 'ldrp', 89.33]"
            ]
          },
          "metadata": {
            "tags": []
          },
          "execution_count": 26
        }
      ]
    },
    {
      "cell_type": "code",
      "metadata": {
        "id": "2wR8U_-nsNg6",
        "colab": {
          "base_uri": "https://localhost:8080/"
        },
        "outputId": "9e1eec36-94d1-4032-89d4-79e08d344b79"
      },
      "source": [
        "exp = [3 ** i for i in range(20) if i>5 and i<=15]\n",
        "print('Ans:',exp)"
      ],
      "execution_count": 27,
      "outputs": [
        {
          "output_type": "stream",
          "text": [
            "Ans: [729, 2187, 6561, 19683, 59049, 177147, 531441, 1594323, 4782969, 14348907]\n"
          ],
          "name": "stdout"
        }
      ]
    },
    {
      "cell_type": "code",
      "metadata": {
        "id": "VIuIvrxvsNg8",
        "colab": {
          "base_uri": "https://localhost:8080/"
        },
        "outputId": "9ca90b85-6fc1-4439-d540-507ee80c4997"
      },
      "source": [
        "type(list3)"
      ],
      "execution_count": 28,
      "outputs": [
        {
          "output_type": "execute_result",
          "data": {
            "text/plain": [
              "list"
            ]
          },
          "metadata": {
            "tags": []
          },
          "execution_count": 28
        }
      ]
    },
    {
      "cell_type": "code",
      "metadata": {
        "id": "gQzNbwBnsNg9",
        "colab": {
          "base_uri": "https://localhost:8080/"
        },
        "outputId": "a64b5cf4-496c-4a64-827a-6943b33099be"
      },
      "source": [
        "len(list3)"
      ],
      "execution_count": 29,
      "outputs": [
        {
          "output_type": "execute_result",
          "data": {
            "text/plain": [
              "6"
            ]
          },
          "metadata": {
            "tags": []
          },
          "execution_count": 29
        }
      ]
    },
    {
      "cell_type": "code",
      "metadata": {
        "id": "3TRh8ob1sNg-"
      },
      "source": [
        ""
      ],
      "execution_count": 29,
      "outputs": []
    }
  ]
}