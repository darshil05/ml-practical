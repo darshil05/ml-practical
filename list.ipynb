{
  "nbformat": 4,
  "nbformat_minor": 0,
  "metadata": {
    "kernelspec": {
      "display_name": "Python 3",
      "language": "python",
      "name": "python3"
    },
    "language_info": {
      "codemirror_mode": {
        "name": "ipython",
        "version": 3
      },
      "file_extension": ".py",
      "mimetype": "text/x-python",
      "name": "python",
      "nbconvert_exporter": "python",
      "pygments_lexer": "ipython3",
      "version": "3.8.3"
    },
    "colab": {
      "name": "list.ipynb",
      "provenance": [],
      "include_colab_link": true
    }
  },
  "cells": [
    {
      "cell_type": "markdown",
      "metadata": {
        "id": "view-in-github",
        "colab_type": "text"
      },
      "source": [
        "<a href=\"https://colab.research.google.com/github/darshil05/ml-practical/blob/main/list.ipynb\" target=\"_parent\"><img src=\"https://colab.research.google.com/assets/colab-badge.svg\" alt=\"Open In Colab\"/></a>"
      ]
    },
    {
      "cell_type": "code",
      "metadata": {
        "id": "qOq0TFLXsNgW"
      },
      "source": [
        "list1 = []\n",
        "list2 = [\"D\",\"A\",\"R\",\"S\",\"H\",\"I\",\"L\"]"
      ],
      "execution_count": 2,
      "outputs": []
    },
    {
      "cell_type": "code",
      "metadata": {
        "id": "ys9Xrj_ysNge"
      },
      "source": [
        "list1.append([\"My\",\"name\",\"is\",\"DARSHIL\"])"
      ],
      "execution_count": 4,
      "outputs": []
    },
    {
      "cell_type": "code",
      "metadata": {
        "colab": {
          "base_uri": "https://localhost:8080/"
        },
        "id": "emZOBZFXsNgi",
        "outputId": "36710b53-da53-47c6-e369-75dc334a8768"
      },
      "source": [
        "list1\n"
      ],
      "execution_count": 5,
      "outputs": [
        {
          "output_type": "execute_result",
          "data": {
            "text/plain": [
              "[['My', 'name', 'is', 'DARSHIL'], ['My', 'name', 'is', 'DARSHIL']]"
            ]
          },
          "metadata": {
            "tags": []
          },
          "execution_count": 5
        }
      ]
    },
    {
      "cell_type": "code",
      "metadata": {
        "colab": {
          "base_uri": "https://localhost:8080/"
        },
        "id": "_PiYNE1jsNgn",
        "outputId": "60f38351-64c8-4064-c7e0-164be8f9c85a"
      },
      "source": [
        "list1[0:2]"
      ],
      "execution_count": 6,
      "outputs": [
        {
          "output_type": "execute_result",
          "data": {
            "text/plain": [
              "[['My', 'name', 'is', 'DARSHIL'], ['My', 'name', 'is', 'DARSHIL']]"
            ]
          },
          "metadata": {
            "tags": []
          },
          "execution_count": 6
        }
      ]
    },
    {
      "cell_type": "code",
      "metadata": {
        "colab": {
          "base_uri": "https://localhost:8080/"
        },
        "id": "kzYT9YM6sNgp",
        "outputId": "687bd85c-3d3c-49e3-f62a-472dea36a2b2"
      },
      "source": [
        "list1[0][0:2]"
      ],
      "execution_count": 7,
      "outputs": [
        {
          "output_type": "execute_result",
          "data": {
            "text/plain": [
              "['My', 'name']"
            ]
          },
          "metadata": {
            "tags": []
          },
          "execution_count": 7
        }
      ]
    },
    {
      "cell_type": "code",
      "metadata": {
        "colab": {
          "base_uri": "https://localhost:8080/"
        },
        "id": "4ixiSmU3sNgr",
        "outputId": "fb1d505d-5dcf-4ed1-b05d-805329f5657f"
      },
      "source": [
        "list2[1:4]\n"
      ],
      "execution_count": 8,
      "outputs": [
        {
          "output_type": "execute_result",
          "data": {
            "text/plain": [
              "['A', 'R', 'S']"
            ]
          },
          "metadata": {
            "tags": []
          },
          "execution_count": 8
        }
      ]
    },
    {
      "cell_type": "code",
      "metadata": {
        "id": "X_ufjxw8sNgs"
      },
      "source": [
        "a = [10, 20, -50, 21.3, 'ldrp']"
      ],
      "execution_count": 9,
      "outputs": []
    },
    {
      "cell_type": "code",
      "metadata": {
        "colab": {
          "base_uri": "https://localhost:8080/"
        },
        "id": "NU038YUysNgu",
        "outputId": "ea16b1ee-1c8c-413d-cf2d-b2d21b2c774c"
      },
      "source": [
        "a\n"
      ],
      "execution_count": 10,
      "outputs": [
        {
          "output_type": "execute_result",
          "data": {
            "text/plain": [
              "[10, 20, -50, 21.3, 'ldrp']"
            ]
          },
          "metadata": {
            "tags": []
          },
          "execution_count": 10
        }
      ]
    },
    {
      "cell_type": "code",
      "metadata": {
        "id": "ECB9LJLXsNgv"
      },
      "source": [
        "a.append(89.33)"
      ],
      "execution_count": 11,
      "outputs": []
    },
    {
      "cell_type": "code",
      "metadata": {
        "colab": {
          "base_uri": "https://localhost:8080/"
        },
        "id": "esyyG5zGsNgx",
        "outputId": "2baa9b84-c3fa-496e-f4d8-b76e7562f6f2"
      },
      "source": [
        "a\n"
      ],
      "execution_count": 12,
      "outputs": [
        {
          "output_type": "execute_result",
          "data": {
            "text/plain": [
              "[10, 20, -50, 21.3, 'ldrp', 89.33]"
            ]
          },
          "metadata": {
            "tags": []
          },
          "execution_count": 12
        }
      ]
    },
    {
      "cell_type": "code",
      "metadata": {
        "id": "gYZXWjf4sNgy"
      },
      "source": [
        "list3=list1 + a"
      ],
      "execution_count": null,
      "outputs": []
    },
    {
      "cell_type": "code",
      "metadata": {
        "id": "OyrHzS3psNgz",
        "outputId": "9765ca88-938b-44b1-846c-34116a61f5a8"
      },
      "source": [
        "list3"
      ],
      "execution_count": null,
      "outputs": [
        {
          "output_type": "execute_result",
          "data": {
            "text/plain": [
              "[['My', 'name', 'is', 'PARAM'], 10, 20, -50, 21.3, 'ldrp', 89.33]"
            ]
          },
          "metadata": {
            "tags": []
          },
          "execution_count": 13
        }
      ]
    },
    {
      "cell_type": "code",
      "metadata": {
        "id": "faDZKrMesNg0"
      },
      "source": [
        "list1.extend(\"hello\")"
      ],
      "execution_count": null,
      "outputs": []
    },
    {
      "cell_type": "code",
      "metadata": {
        "id": "k30MGLlDsNg2",
        "outputId": "c26e7645-dbf9-43af-c295-a890d9d3a1bd"
      },
      "source": [
        "list1"
      ],
      "execution_count": null,
      "outputs": [
        {
          "output_type": "execute_result",
          "data": {
            "text/plain": [
              "[['My', 'name', 'is', 'PARAM'], 'h', 'e', 'l', 'l', 'o']"
            ]
          },
          "metadata": {
            "tags": []
          },
          "execution_count": 15
        }
      ]
    },
    {
      "cell_type": "code",
      "metadata": {
        "id": "yK0cAz0xsNg3",
        "outputId": "71d224d1-ecb4-4587-d8d5-cd3204f5bbf3"
      },
      "source": [
        "del list3[1:4]\n",
        "list3"
      ],
      "execution_count": null,
      "outputs": [
        {
          "output_type": "execute_result",
          "data": {
            "text/plain": [
              "[['My', 'name', 'is', 'PARAM'], 21.3, 'ldrp', 89.33]"
            ]
          },
          "metadata": {
            "tags": []
          },
          "execution_count": 16
        }
      ]
    },
    {
      "cell_type": "code",
      "metadata": {
        "id": "pTP6EgmvsNg5",
        "outputId": "f5e2ec61-e2f4-4c42-dd00-1b0892000138"
      },
      "source": [
        "list3[1:1] = [\"ldrp\"]\n",
        "list3"
      ],
      "execution_count": null,
      "outputs": [
        {
          "output_type": "execute_result",
          "data": {
            "text/plain": [
              "[['My', 'name', 'is', 'PARAM'], 'ldrp', 21.3, 'ldrp', 89.33]"
            ]
          },
          "metadata": {
            "tags": []
          },
          "execution_count": 17
        }
      ]
    },
    {
      "cell_type": "code",
      "metadata": {
        "id": "2wR8U_-nsNg6",
        "outputId": "398611ca-b91e-4ef6-e2ba-b49180f10020"
      },
      "source": [
        "exp = [3 ** i for i in range(20) if i>5 and i<=15]\n",
        "print('Ans:',exp)"
      ],
      "execution_count": null,
      "outputs": [
        {
          "output_type": "stream",
          "text": [
            "Ans: [729, 2187, 6561, 19683, 59049, 177147, 531441, 1594323, 4782969, 14348907]\n"
          ],
          "name": "stdout"
        }
      ]
    },
    {
      "cell_type": "code",
      "metadata": {
        "id": "VIuIvrxvsNg8",
        "outputId": "23f7696c-83fa-4629-f380-62a8fcdc0e7e"
      },
      "source": [
        "type(list3)"
      ],
      "execution_count": null,
      "outputs": [
        {
          "output_type": "execute_result",
          "data": {
            "text/plain": [
              "list"
            ]
          },
          "metadata": {
            "tags": []
          },
          "execution_count": 19
        }
      ]
    },
    {
      "cell_type": "code",
      "metadata": {
        "id": "gQzNbwBnsNg9",
        "outputId": "676a94e9-f4fd-4c72-e269-447976262b2f"
      },
      "source": [
        "len(list3)"
      ],
      "execution_count": null,
      "outputs": [
        {
          "output_type": "execute_result",
          "data": {
            "text/plain": [
              "5"
            ]
          },
          "metadata": {
            "tags": []
          },
          "execution_count": 20
        }
      ]
    },
    {
      "cell_type": "code",
      "metadata": {
        "id": "3TRh8ob1sNg-"
      },
      "source": [
        ""
      ],
      "execution_count": null,
      "outputs": []
    }
  ]
}